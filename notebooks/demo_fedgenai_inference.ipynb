# Cell 1: Import Dependencies
import pandas as pd
import torch
from model.fedgenai_model import FedGenAI_CDSS_Model
from preprocessing import preprocess_ehr_data
from evaluation.evaluate import predict_single

# Cell 2: Load Preprocessed EHR Sample (Simulated)
ehr_data = pd.read_csv("../data/sample_ehr_extended.csv")
sample = ehr_data.iloc[0:1]  # simulate inference on one patient record

# Cell 3: Preprocess Input for Model
X_input = preprocess_ehr_data(sample)

# Cell 4: Initialize Model and Load Weights (if any)
model = FedGenAI_CDSS_Model(input_dim=X_input.shape[1])
model.eval()

# Simulated pretrained weights loading (commented out)
# model.load_state_dict(torch.load('../model/checkpoints/final_model.pth'))

# Cell 5: Perform Inference
with torch.no_grad():
    prediction = model(torch.tensor(X_input.values).float())
    predicted_class = torch.argmax(prediction, dim=1).item()

print("Predicted Diagnosis Category:", predicted_class) 

